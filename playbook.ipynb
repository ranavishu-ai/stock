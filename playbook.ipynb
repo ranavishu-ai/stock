{
 "cells": [
  {
   "cell_type": "code",
   "execution_count": 1,
   "metadata": {},
   "outputs": [],
   "source": [
    "import datetime\n",
    "from dateutil.relativedelta import relativedelta\n",
    "import pandas as pd\n",
    "import plotly.express as px"
   ]
  },
  {
   "cell_type": "code",
   "execution_count": 2,
   "metadata": {},
   "outputs": [],
   "source": [
    "# Get current date, time and timezone to print to the App\n",
    "now = datetime.datetime.now()\n",
    "datetime_now = now.strftime(\"%d/%m/%Y %H:%M:%S\")\n",
    "timezone_string = datetime.datetime.now().astimezone().tzname()"
   ]
  },
  {
   "cell_type": "code",
   "execution_count": 3,
   "metadata": {},
   "outputs": [],
   "source": [
    "# read csv files\n",
    "articles_data = pd.read_csv(\"./datasets/NIFTY_500_Articles.csv\", index_col=0)\n",
    "ticker_metadata = pd.read_csv(\"./datasets/ticker_metadata.csv\", index_col=0)"
   ]
  },
  {
   "cell_type": "code",
   "execution_count": 4,
   "metadata": {},
   "outputs": [],
   "source": [
    "# Universe filter variable\n",
    "universe = \"nifty_50\"\n",
    "\n",
    "# universe string will be used at places where we need to show the universe name (without underscores)\n",
    "if universe == \"nifty_50\":\n",
    "    universe_string = \"NIFTY 50\"\n",
    "if universe == \"nifty_100\":\n",
    "    universe_string = \"NIFTY 100\"\n",
    "if universe == \"nifty_200\":\n",
    "    universe_string = \"NIFTY 200\"\n",
    "if universe == \"nifty_500\":\n",
    "    universe_string = \"NIFTY 500\"\n",
    "\n",
    "universe_tickers = pd.read_csv(\"./datasets/{}.csv\".format(universe), index_col=0)[\n",
    "    \"Symbol\"\n",
    "]"
   ]
  },
  {
   "cell_type": "code",
   "execution_count": 6,
   "metadata": {},
   "outputs": [],
   "source": [
    "# date and time filter variables\n",
    "date_interval = 30\n",
    "cutoff_date = pd.to_datetime(\n",
    "    datetime.datetime.now() - relativedelta(days=date_interval)\n",
    ")"
   ]
  },
  {
   "cell_type": "code",
   "execution_count": 7,
   "metadata": {},
   "outputs": [],
   "source": [
    "filterd_articles = articles_data.loc[\n",
    "    articles_data.Date.astype(\"datetime64[ns]\") > cutoff_date\n",
    "]"
   ]
  },
  {
   "cell_type": "code",
   "execution_count": 14,
   "metadata": {},
   "outputs": [
    {
     "data": {
      "text/html": [
       "<div>\n",
       "<style scoped>\n",
       "    .dataframe tbody tr th:only-of-type {\n",
       "        vertical-align: middle;\n",
       "    }\n",
       "\n",
       "    .dataframe tbody tr th {\n",
       "        vertical-align: top;\n",
       "    }\n",
       "\n",
       "    .dataframe thead th {\n",
       "        text-align: right;\n",
       "    }\n",
       "</style>\n",
       "<table border=\"1\" class=\"dataframe\">\n",
       "  <thead>\n",
       "    <tr style=\"text-align: right;\">\n",
       "      <th></th>\n",
       "      <th>Ticker</th>\n",
       "      <th>Headline</th>\n",
       "      <th>Date</th>\n",
       "      <th>Source</th>\n",
       "      <th>Link</th>\n",
       "      <th>positive</th>\n",
       "      <th>neutral</th>\n",
       "      <th>negative</th>\n",
       "      <th>compound</th>\n",
       "    </tr>\n",
       "  </thead>\n",
       "  <tbody>\n",
       "    <tr>\n",
       "      <th>0</th>\n",
       "      <td>ADANIENT</td>\n",
       "      <td>Adani Enterprises to launch first-ever public ...</td>\n",
       "      <td>2024-07-30 11:35:41</td>\n",
       "      <td>Business Standard</td>\n",
       "      <td>https://www.business-standard.com/companies/ne...</td>\n",
       "      <td>0.699481</td>\n",
       "      <td>0.292175</td>\n",
       "      <td>0.008345</td>\n",
       "      <td>0.691136</td>\n",
       "    </tr>\n",
       "    <tr>\n",
       "      <th>1</th>\n",
       "      <td>ADANIENT</td>\n",
       "      <td>Adani Total Gas Q1 Results: PAT jumps 15% YoY ...</td>\n",
       "      <td>2024-07-29 18:35:41</td>\n",
       "      <td>The Economic Times</td>\n",
       "      <td>https://m.economictimes.com/markets/stocks/ear...</td>\n",
       "      <td>0.948632</td>\n",
       "      <td>0.026765</td>\n",
       "      <td>0.024603</td>\n",
       "      <td>0.924030</td>\n",
       "    </tr>\n",
       "    <tr>\n",
       "      <th>2</th>\n",
       "      <td>ADANIENT</td>\n",
       "      <td>Adani Wilmar Jumps Over 5% As Company Swings T...</td>\n",
       "      <td>2024-07-30 02:35:41</td>\n",
       "      <td>News18</td>\n",
       "      <td>https://www.news18.com/business/markets/adani-...</td>\n",
       "      <td>0.883750</td>\n",
       "      <td>0.055698</td>\n",
       "      <td>0.060552</td>\n",
       "      <td>0.823197</td>\n",
       "    </tr>\n",
       "    <tr>\n",
       "      <th>3</th>\n",
       "      <td>ADANIENT</td>\n",
       "      <td>Adani Wilmar Shares Rocket 7% After Posting ₹3...</td>\n",
       "      <td>2024-07-29 18:35:41</td>\n",
       "      <td>Benzinga</td>\n",
       "      <td>https://in.benzinga.com/content/40004312/adani...</td>\n",
       "      <td>0.921151</td>\n",
       "      <td>0.024612</td>\n",
       "      <td>0.054237</td>\n",
       "      <td>0.866915</td>\n",
       "    </tr>\n",
       "    <tr>\n",
       "      <th>4</th>\n",
       "      <td>ADANIPORTS</td>\n",
       "      <td>Stocks to buy: Adani Ports, Cipla, Ashok Leyla...</td>\n",
       "      <td>2024-07-29 18:35:41</td>\n",
       "      <td>mint</td>\n",
       "      <td>https://www.livemint.com/market/stock-market-n...</td>\n",
       "      <td>0.916255</td>\n",
       "      <td>0.068680</td>\n",
       "      <td>0.015064</td>\n",
       "      <td>0.901191</td>\n",
       "    </tr>\n",
       "    <tr>\n",
       "      <th>...</th>\n",
       "      <td>...</td>\n",
       "      <td>...</td>\n",
       "      <td>...</td>\n",
       "      <td>...</td>\n",
       "      <td>...</td>\n",
       "      <td>...</td>\n",
       "      <td>...</td>\n",
       "      <td>...</td>\n",
       "      <td>...</td>\n",
       "    </tr>\n",
       "    <tr>\n",
       "      <th>188</th>\n",
       "      <td>WIPRO</td>\n",
       "      <td>Wipro Share Price Highlights : Wipro closed to...</td>\n",
       "      <td>2024-07-29 20:36:02</td>\n",
       "      <td>Livemint</td>\n",
       "      <td>https://www.livemint.com/market/live-blog/wipr...</td>\n",
       "      <td>0.007338</td>\n",
       "      <td>0.017221</td>\n",
       "      <td>0.975441</td>\n",
       "      <td>-0.968103</td>\n",
       "    </tr>\n",
       "    <tr>\n",
       "      <th>189</th>\n",
       "      <td>WIPRO</td>\n",
       "      <td>Wipro lags peers, revenue down nearly 5% in Ju...</td>\n",
       "      <td>2024-07-23 18:36:02</td>\n",
       "      <td>Times of India</td>\n",
       "      <td>https://timesofindia.indiatimes.com/business/i...</td>\n",
       "      <td>0.007551</td>\n",
       "      <td>0.017093</td>\n",
       "      <td>0.975355</td>\n",
       "      <td>-0.967804</td>\n",
       "    </tr>\n",
       "    <tr>\n",
       "      <th>190</th>\n",
       "      <td>WIPRO</td>\n",
       "      <td>Q1 results: RIL, Infosys, Paytm, Jio Financial...</td>\n",
       "      <td>2024-07-16 18:36:02</td>\n",
       "      <td>mint</td>\n",
       "      <td>https://www.livemint.com/companies/company-res...</td>\n",
       "      <td>0.102075</td>\n",
       "      <td>0.799176</td>\n",
       "      <td>0.098749</td>\n",
       "      <td>0.003326</td>\n",
       "    </tr>\n",
       "    <tr>\n",
       "      <th>191</th>\n",
       "      <td>WIPRO</td>\n",
       "      <td>Wipro vs TCS vs Infosys vs HCL Tech: Which IT ...</td>\n",
       "      <td>2024-07-23 18:36:02</td>\n",
       "      <td>mint</td>\n",
       "      <td>https://www.livemint.com/market/stock-market-n...</td>\n",
       "      <td>0.047133</td>\n",
       "      <td>0.933767</td>\n",
       "      <td>0.019100</td>\n",
       "      <td>0.028033</td>\n",
       "    </tr>\n",
       "    <tr>\n",
       "      <th>192</th>\n",
       "      <td>WIPRO</td>\n",
       "      <td>India's Wipro lags IT peers with Q1 revenue mi...</td>\n",
       "      <td>2024-07-23 18:36:02</td>\n",
       "      <td>Reuters</td>\n",
       "      <td>https://www.reuters.com/technology/indias-wipr...</td>\n",
       "      <td>0.011515</td>\n",
       "      <td>0.019543</td>\n",
       "      <td>0.968942</td>\n",
       "      <td>-0.957427</td>\n",
       "    </tr>\n",
       "  </tbody>\n",
       "</table>\n",
       "<p>189 rows × 9 columns</p>\n",
       "</div>"
      ],
      "text/plain": [
       "         Ticker                                           Headline  \\\n",
       "0      ADANIENT  Adani Enterprises to launch first-ever public ...   \n",
       "1      ADANIENT  Adani Total Gas Q1 Results: PAT jumps 15% YoY ...   \n",
       "2      ADANIENT  Adani Wilmar Jumps Over 5% As Company Swings T...   \n",
       "3      ADANIENT  Adani Wilmar Shares Rocket 7% After Posting ₹3...   \n",
       "4    ADANIPORTS  Stocks to buy: Adani Ports, Cipla, Ashok Leyla...   \n",
       "..          ...                                                ...   \n",
       "188       WIPRO  Wipro Share Price Highlights : Wipro closed to...   \n",
       "189       WIPRO  Wipro lags peers, revenue down nearly 5% in Ju...   \n",
       "190       WIPRO  Q1 results: RIL, Infosys, Paytm, Jio Financial...   \n",
       "191       WIPRO  Wipro vs TCS vs Infosys vs HCL Tech: Which IT ...   \n",
       "192       WIPRO  India's Wipro lags IT peers with Q1 revenue mi...   \n",
       "\n",
       "                    Date              Source  \\\n",
       "0    2024-07-30 11:35:41   Business Standard   \n",
       "1    2024-07-29 18:35:41  The Economic Times   \n",
       "2    2024-07-30 02:35:41              News18   \n",
       "3    2024-07-29 18:35:41            Benzinga   \n",
       "4    2024-07-29 18:35:41                mint   \n",
       "..                   ...                 ...   \n",
       "188  2024-07-29 20:36:02            Livemint   \n",
       "189  2024-07-23 18:36:02      Times of India   \n",
       "190  2024-07-16 18:36:02                mint   \n",
       "191  2024-07-23 18:36:02                mint   \n",
       "192  2024-07-23 18:36:02             Reuters   \n",
       "\n",
       "                                                  Link  positive   neutral  \\\n",
       "0    https://www.business-standard.com/companies/ne...  0.699481  0.292175   \n",
       "1    https://m.economictimes.com/markets/stocks/ear...  0.948632  0.026765   \n",
       "2    https://www.news18.com/business/markets/adani-...  0.883750  0.055698   \n",
       "3    https://in.benzinga.com/content/40004312/adani...  0.921151  0.024612   \n",
       "4    https://www.livemint.com/market/stock-market-n...  0.916255  0.068680   \n",
       "..                                                 ...       ...       ...   \n",
       "188  https://www.livemint.com/market/live-blog/wipr...  0.007338  0.017221   \n",
       "189  https://timesofindia.indiatimes.com/business/i...  0.007551  0.017093   \n",
       "190  https://www.livemint.com/companies/company-res...  0.102075  0.799176   \n",
       "191  https://www.livemint.com/market/stock-market-n...  0.047133  0.933767   \n",
       "192  https://www.reuters.com/technology/indias-wipr...  0.011515  0.019543   \n",
       "\n",
       "     negative  compound  \n",
       "0    0.008345  0.691136  \n",
       "1    0.024603  0.924030  \n",
       "2    0.060552  0.823197  \n",
       "3    0.054237  0.866915  \n",
       "4    0.015064  0.901191  \n",
       "..        ...       ...  \n",
       "188  0.975441 -0.968103  \n",
       "189  0.975355 -0.967804  \n",
       "190  0.098749  0.003326  \n",
       "191  0.019100  0.028033  \n",
       "192  0.968942 -0.957427  \n",
       "\n",
       "[189 rows x 9 columns]"
      ]
     },
     "execution_count": 14,
     "metadata": {},
     "output_type": "execute_result"
    }
   ],
   "source": [
    "filterd_articles"
   ]
  },
  {
   "cell_type": "code",
   "execution_count": 8,
   "metadata": {},
   "outputs": [],
   "source": [
    "ticker_scores = (\n",
    "    filterd_articles.loc[:, [\"Ticker\", \"positive\", \"negative\", \"compound\"]]\n",
    "    .groupby(\"Ticker\")\n",
    "    .mean()\n",
    "    .reset_index()\n",
    ")"
   ]
  },
  {
   "cell_type": "code",
   "execution_count": 9,
   "metadata": {},
   "outputs": [],
   "source": [
    "# filter companies based on universe\n",
    "filtered_tickers = ticker_scores.loc[ticker_scores.Ticker.isin(universe_tickers)]"
   ]
  },
  {
   "cell_type": "code",
   "execution_count": 10,
   "metadata": {},
   "outputs": [],
   "source": [
    "final_df = pd.merge(ticker_metadata, filtered_tickers, on=\"Ticker\", how=\"inner\")"
   ]
  },
  {
   "cell_type": "code",
   "execution_count": 11,
   "metadata": {},
   "outputs": [],
   "source": [
    "final_df.rename(\n",
    "    columns={\"Market Cap\": \"Market Cap (Billion Rs)\", \"compound\": \"Sentiment Score\"},\n",
    "    inplace=True,\n",
    ")"
   ]
  },
  {
   "cell_type": "code",
   "execution_count": 12,
   "metadata": {},
   "outputs": [
    {
     "data": {
      "text/html": [
       "<div>\n",
       "<style scoped>\n",
       "    .dataframe tbody tr th:only-of-type {\n",
       "        vertical-align: middle;\n",
       "    }\n",
       "\n",
       "    .dataframe tbody tr th {\n",
       "        vertical-align: top;\n",
       "    }\n",
       "\n",
       "    .dataframe thead th {\n",
       "        text-align: right;\n",
       "    }\n",
       "</style>\n",
       "<table border=\"1\" class=\"dataframe\">\n",
       "  <thead>\n",
       "    <tr style=\"text-align: right;\">\n",
       "      <th></th>\n",
       "      <th>Ticker</th>\n",
       "      <th>Sector</th>\n",
       "      <th>Industry</th>\n",
       "      <th>Market Cap (Billion Rs)</th>\n",
       "      <th>Company Name</th>\n",
       "      <th>positive</th>\n",
       "      <th>negative</th>\n",
       "      <th>Sentiment Score</th>\n",
       "    </tr>\n",
       "  </thead>\n",
       "  <tbody>\n",
       "    <tr>\n",
       "      <th>0</th>\n",
       "      <td>ADANIENT</td>\n",
       "      <td>Commodities</td>\n",
       "      <td>Metals &amp; Minerals Trading</td>\n",
       "      <td>3521.86</td>\n",
       "      <td>Adani Enterprises Limited</td>\n",
       "      <td>0.863254</td>\n",
       "      <td>0.036934</td>\n",
       "      <td>0.826319</td>\n",
       "    </tr>\n",
       "    <tr>\n",
       "      <th>1</th>\n",
       "      <td>ADANIPORTS</td>\n",
       "      <td>Services</td>\n",
       "      <td>Transport Infrastructure</td>\n",
       "      <td>3345.41</td>\n",
       "      <td>Adani Ports and Special Economic Zone Limited</td>\n",
       "      <td>0.653950</td>\n",
       "      <td>0.030728</td>\n",
       "      <td>0.623222</td>\n",
       "    </tr>\n",
       "  </tbody>\n",
       "</table>\n",
       "</div>"
      ],
      "text/plain": [
       "       Ticker       Sector                   Industry  \\\n",
       "0    ADANIENT  Commodities  Metals & Minerals Trading   \n",
       "1  ADANIPORTS     Services   Transport Infrastructure   \n",
       "\n",
       "   Market Cap (Billion Rs)                                   Company Name  \\\n",
       "0                  3521.86                      Adani Enterprises Limited   \n",
       "1                  3345.41  Adani Ports and Special Economic Zone Limited   \n",
       "\n",
       "   positive  negative  Sentiment Score  \n",
       "0  0.863254  0.036934         0.826319  \n",
       "1  0.653950  0.030728         0.623222  "
      ]
     },
     "execution_count": 12,
     "metadata": {},
     "output_type": "execute_result"
    }
   ],
   "source": [
    "final_df.head(2)"
   ]
  },
  {
   "cell_type": "code",
   "execution_count": 13,
   "metadata": {},
   "outputs": [
    {
     "data": {
      "application/vnd.plotly.v1+json": {
       "config": {
        "plotlyServerURL": "https://plot.ly"
       },
       "data": [
        {
         "branchvalues": "total",
         "customdata": [
          [
           "Adani Enterprises Limited",
           0.03693405864760275,
           0.8632535487413406,
           0.8263194900937378,
           0.8263194900937378
          ],
          [
           "Adani Ports and Special Economic Zone Limited",
           0.030728170648217132,
           0.6539498046040535,
           0.6232216339558363,
           0.6232216339558363
          ],
          [
           "Apollo Hospitals Enterprise Limited",
           0.7762410044670105,
           0.1943405568599701,
           -0.5819004476070404,
           -0.5819004476070404
          ],
          [
           "Asian Paints Limited",
           0.24209355361138776,
           0.18772129730011025,
           -0.05437225631127756,
           -0.05437225631127756
          ],
          [
           "Axis Bank Limited",
           0.3364053284749388,
           0.08300629560835655,
           -0.2533990328665823,
           -0.2533990328665823
          ],
          [
           "Bajaj Auto Limited",
           0.014604635536670626,
           0.1303357314318418,
           0.11573109589517115,
           0.11573109589517115
          ],
          [
           "Bajaj Finserv Limited",
           0.24482952430844304,
           0.47790622245520353,
           0.2330766981467605,
           0.2330766981467605
          ],
          [
           "Bajaj Finance Limited",
           0.01182083121966565,
           0.5301899360492826,
           0.5183691048296168,
           0.5183691048296168
          ],
          [
           "Bharti Airtel Limited",
           0.016551188658922876,
           0.2105919532477855,
           0.1940407645888626,
           0.1940407645888626
          ],
          [
           "Bharat Petroleum Corporation Limited",
           0.0288440962322056,
           0.5018116785213351,
           0.47296758228912944,
           0.47296758228912944
          ],
          [
           "Britannia Industries Limited",
           0.013215385843068299,
           0.05196051485836505,
           0.03874512901529665,
           0.03874512901529665
          ],
          [
           "Cipla Limited",
           0.10356779893239333,
           0.41314075763026875,
           0.3095729586978753,
           0.3095729586978753
          ],
          [
           "Coal India Limited",
           0.03993308497592803,
           0.5038668469836314,
           0.46393376200770337,
           0.46393376200770337
          ],
          [
           "Divi's Laboratories Limited",
           0.17118214862421152,
           0.7764647230505943,
           0.6052825744263828,
           0.6052825744263828
          ],
          [
           "Dr. Reddy's Laboratories Limited",
           0.25763564277440304,
           0.3019819911569357,
           0.04434634838253264,
           0.04434634838253264
          ],
          [
           "Eicher Motors Limited",
           0.1970707761123776,
           0.6471729964017868,
           0.4501022202894091,
           0.4501022202894091
          ],
          [
           "Grasim Industries Limited",
           0.17015197811027363,
           0.6094010608891646,
           0.4392490827788909,
           0.4392490827788909
          ],
          [
           "HCL Technologies Limited",
           0.024595803581178126,
           0.15664988011121744,
           0.13205407653003928,
           0.13205407653003928
          ],
          [
           "HDFC Bank Limited",
           0.039690359806021015,
           0.3172124406943718,
           0.2775220808883508,
           0.2775220808883508
          ],
          [
           "HDFC Life Insurance Company Limited",
           0.030917186755686974,
           0.3381210602819919,
           0.30720387352630496,
           0.30720387352630496
          ],
          [
           "Hero MotoCorp Limited",
           0.013716144952923016,
           0.2468560139338175,
           0.23313986898089448,
           0.23313986898089448
          ],
          [
           "Hindalco Industries Limited",
           0.9440336227416992,
           0.0423283725976944,
           -0.9017052501440048,
           -0.9017052501440048
          ],
          [
           "Hindustan Unilever Limited",
           0.06776420772075648,
           0.09589942668875057,
           0.028135218967994032,
           0.028135218967994032
          ],
          [
           "ICICI Bank Limited",
           0.0207789507694542,
           0.049254842102527605,
           0.0284758913330733,
           0.0284758913330733
          ],
          [
           "IndusInd Bank Limited",
           0.0128104666558404,
           0.6405735711256663,
           0.6277631044698259,
           0.6277631044698259
          ],
          [
           "Infosys Limited",
           0.006301830522716,
           0.8033699989318848,
           0.7970681684091687,
           0.7970681684091687
          ],
          [
           "ITC Limited",
           0.3346036210035284,
           0.4988993098183225,
           0.16429568881479403,
           0.16429568881479403
          ],
          [
           "JSW Steel Limited",
           0.016386292176321125,
           0.4993644440546632,
           0.48297815187834203,
           0.48297815187834203
          ],
          [
           "Kotak Mahindra Bank Limited",
           0.9121137062708536,
           0.0406531201054652,
           -0.8714605861653885,
           -0.8714605861653885
          ],
          [
           "Larsen & Toubro Limited",
           0.4852338419295847,
           0.4636183148249983,
           -0.02161552710458642,
           -0.02161552710458642
          ],
          [
           "LTIMindtree Limited",
           0.8084711028883854,
           0.02184056614836052,
           -0.7866305367400249,
           -0.7866305367400249
          ],
          [
           "Mahindra & Mahindra Limited",
           0.03873171595235663,
           0.6189078409224749,
           0.5801761249701182,
           0.5801761249701182
          ],
          [
           "Maruti Suzuki India Limited",
           0.0163972615264356,
           0.4608935192227363,
           0.44449625769630075,
           0.44449625769630075
          ],
          [
           "Nestle India Limited",
           0.3390331733971834,
           0.33209855947643513,
           -0.006934613920748271,
           -0.006934613920748271
          ],
          [
           "NTPC Limited",
           0.029469567816704498,
           0.40157411992549896,
           0.37210455210879445,
           0.37210455210879445
          ],
          [
           "Oil & Natural Gas Corporation Limited",
           0.2670588775072246,
           0.25367026682943106,
           -0.013388610677793678,
           -0.013388610677793678
          ],
          [
           "Power Grid Corporation of India Limited",
           0.0113138249143958,
           0.552029550075531,
           0.5407157251611352,
           0.5407157251611352
          ],
          [
           "Reliance Industries Limited",
           0.01742382440716025,
           0.4481879472732544,
           0.4307641228660941,
           0.4307641228660941
          ],
          [
           "SBI Life Insurance Company Limited",
           0.0390758318826556,
           0.37600789777934546,
           0.33693206589668984,
           0.33693206589668984
          ],
          [
           "State Bank of India",
           0.26107548759318877,
           0.13843987090513105,
           -0.12263561668805774,
           -0.12263561668805774
          ],
          [
           "Shriram Finance Limited",
           0.0166973061859607,
           0.9498761296272278,
           0.933178823441267,
           0.933178823441267
          ],
          [
           "Sun Pharmaceutical Industries Limited",
           0.043451648205518674,
           0.7713441550731659,
           0.7278925068676472,
           0.7278925068676472
          ],
          [
           "TATA CONSUMER PRODUCTS LIMITED",
           0.024557142751291325,
           0.08948177006095642,
           0.06492462730966504,
           0.06492462730966504
          ],
          [
           "Tata Motors Limited",
           0.13911471515893933,
           0.5986645122369131,
           0.45954979707797367,
           0.45954979707797367
          ],
          [
           "TATA Steel Limited",
           0.021883612498641,
           0.0380728244781494,
           0.0161892119795084,
           0.0161892119795084
          ],
          [
           "Tata Consultancy Services Limited",
           0.17417676048353314,
           0.06142957136034963,
           -0.11274718912318346,
           -0.11274718912318346
          ],
          [
           "Tech Mahindra Limited",
           0.09110797693332033,
           0.49055898437897355,
           0.3994510074456533,
           0.3994510074456533
          ],
          [
           "Titan Company Limited",
           0.25915512884967024,
           0.09165098285302514,
           -0.16750414599664512,
           -0.16750414599664512
          ],
          [
           "UltraTech Cement Limited",
           0.019543369611104266,
           0.0493253370126088,
           0.02978196740150447,
           0.02978196740150447
          ],
          [
           "Wipro Limited",
           0.6686237876613935,
           0.030405674595385748,
           -0.6382181130660077,
           -0.6382181130660077
          ],
          [
           "TATA CONSUMER PRODUCTS LIMITED",
           0.024557142751291325,
           0.08948177006095642,
           0.06492462730966504,
           0.06492462730966504
          ],
          [
           "(?)",
           "(?)",
           "(?)",
           0.4113126521862201,
           0.4113126521862201
          ],
          [
           "(?)",
           "(?)",
           "(?)",
           -0.017756797148279425,
           -0.017756797148279425
          ],
          [
           "(?)",
           "(?)",
           "(?)",
           0.1739256553321958,
           0.1739256553321958
          ],
          [
           "Larsen & Toubro Limited",
           0.4852338419295847,
           0.4636183148249983,
           -0.02161552710458642,
           -0.02161552710458642
          ],
          [
           "Coal India Limited",
           0.03993308497592803,
           0.5038668469836314,
           0.46393376200770337,
           0.46393376200770337
          ],
          [
           "(?)",
           "(?)",
           "(?)",
           -0.1128168504426817,
           -0.1128168504426817
          ],
          [
           "(?)",
           "(?)",
           "(?)",
           0.09528077938838314,
           0.09528077938838314
          ],
          [
           "(?)",
           "(?)",
           "(?)",
           0.2586407478261716,
           0.2586407478261716
          ],
          [
           "(?)",
           "(?)",
           "(?)",
           0.4832403015382726,
           0.4832403015382726
          ],
          [
           "(?)",
           "(?)",
           "(?)",
           0.010131346690031849,
           0.010131346690031849
          ],
          [
           "Apollo Hospitals Enterprise Limited",
           0.7762410044670105,
           0.1943405568599701,
           -0.5819004476070404,
           -0.5819004476070404
          ],
          [
           "(?)",
           "(?)",
           "(?)",
           0.07315903978296787,
           0.07315903978296787
          ],
          [
           "(?)",
           "(?)",
           "(?)",
           0.3232144099638827,
           0.3232144099638827
          ],
          [
           "Adani Enterprises Limited",
           0.03693405864760275,
           0.8632535487413406,
           0.8263194900937378,
           0.8263194900937378
          ],
          [
           "Hindalco Industries Limited",
           0.9440336227416992,
           0.0423283725976944,
           -0.9017052501440048,
           -0.9017052501440048
          ],
          [
           "Oil & Natural Gas Corporation Limited",
           0.2670588775072246,
           0.25367026682943106,
           -0.013388610677793678,
           -0.013388610677793678
          ],
          [
           "(?)",
           "(?)",
           "(?)",
           0.433571850403044,
           0.433571850403044
          ],
          [
           "(?)",
           "(?)",
           "(?)",
           0.5409491663434274,
           0.5409491663434274
          ],
          [
           "(?)",
           "(?)",
           "(?)",
           0.44876078958577564,
           0.44876078958577564
          ],
          [
           "Bharti Airtel Limited",
           0.016551188658922876,
           0.2105919532477855,
           0.1940407645888626,
           0.1940407645888626
          ],
          [
           "Adani Ports and Special Economic Zone Limited",
           0.030728170648217132,
           0.6539498046040535,
           0.6232216339558363,
           0.6232216339558363
          ],
          [
           "(?)",
           "(?)",
           "(?)",
           0.24573080330359973,
           0.24573080330359973
          ],
          [
           "(?)",
           "(?)",
           "(?)",
           0.2739352101077711,
           0.2739352101077711
          ],
          [
           "(?)",
           "(?)",
           "(?)",
           0.3731208465333675,
           0.3731208465333675
          ],
          [
           "(?)",
           "(?)",
           "(?)",
           0.07478911202637732,
           0.07478911202637732
          ],
          [
           "(?)",
           "(?)",
           "(?)",
           0.0878921468908563,
           0.0878921468908563
          ],
          [
           "(?)",
           "(?)",
           "(?)",
           0.4183439917101374,
           0.4183439917101374
          ],
          [
           "Larsen & Toubro Limited",
           0.4852338419295847,
           0.4636183148249983,
           -0.02161552710458642,
           -0.02161552710458642
          ],
          [
           "(?)",
           "(?)",
           "(?)",
           0.07315903978296787,
           0.07315903978296787
          ],
          [
           "Adani Ports and Special Economic Zone Limited",
           0.030728170648217132,
           0.6539498046040535,
           0.6232216339558363,
           0.6232216339558363
          ],
          [
           "Bharti Airtel Limited",
           0.016551188658922876,
           0.2105919532477855,
           0.1940407645888626,
           0.1940407645888626
          ],
          [
           "(?)",
           "(?)",
           "(?)",
           0.44876078958577564,
           0.44876078958577564
          ],
          [
           "(?)",
           "(?)",
           "(?)",
           0.19695187110236395,
           0.19695187110236395
          ]
         ],
         "domain": {
          "x": [
           0,
           1
          ],
          "y": [
           0,
           1
          ]
         },
         "hovertemplate": "labels=%{label}<br>Market Cap (Billion Rs)=%{value}<br>parent=%{parent}<br>id=%{id}<br>Company Name=%{customdata[0]}<br>negative=%{customdata[1]}<br>positive=%{customdata[2]}<br>Sentiment Score=%{color}<extra></extra>",
         "ids": [
          "NIFTY 50/Commodities/Metals & Minerals Trading/ADANIENT",
          "NIFTY 50/Services/Transport Infrastructure/ADANIPORTS",
          "NIFTY 50/Healthcare/Healthcare Services/APOLLOHOSP",
          "NIFTY 50/Consumer Discretionary/Consumer Durables/ASIANPAINT",
          "NIFTY 50/Financial Services/Banks/AXISBANK",
          "NIFTY 50/Consumer Discretionary/Automobiles/BAJAJ-AUTO",
          "NIFTY 50/Financial Services/Finance/BAJAJFINSV",
          "NIFTY 50/Financial Services/Finance/BAJFINANCE",
          "NIFTY 50/Telecommunication/Telecom - Services/BHARTIARTL",
          "NIFTY 50/Energy/Petroleum Products/BPCL",
          "NIFTY 50/Fast Moving Consumer Goods/Food Products/BRITANNIA",
          "NIFTY 50/Healthcare/Pharmaceuticals & Biotechnology/CIPLA",
          "NIFTY 50/Energy/Consumable Fuels/COALINDIA",
          "NIFTY 50/Healthcare/Pharmaceuticals & Biotechnology/DIVISLAB",
          "NIFTY 50/Healthcare/Pharmaceuticals & Biotechnology/DRREDDY",
          "NIFTY 50/Consumer Discretionary/Automobiles/EICHERMOT",
          "NIFTY 50/Commodities/Cement & Cement Products/GRASIM",
          "NIFTY 50/Information Technology/IT - Software/HCLTECH",
          "NIFTY 50/Financial Services/Banks/HDFCBANK",
          "NIFTY 50/Financial Services/Insurance/HDFCLIFE",
          "NIFTY 50/Consumer Discretionary/Automobiles/HEROMOTOCO",
          "NIFTY 50/Commodities/Non - Ferrous Metals/HINDALCO",
          "NIFTY 50/Fast Moving Consumer Goods/Diversified FMCG/HINDUNILVR",
          "NIFTY 50/Financial Services/Banks/ICICIBANK",
          "NIFTY 50/Financial Services/Banks/INDUSINDBK",
          "NIFTY 50/Information Technology/IT - Software/INFY",
          "NIFTY 50/Fast Moving Consumer Goods/Diversified FMCG/ITC",
          "NIFTY 50/Commodities/Ferrous Metals/JSWSTEEL",
          "NIFTY 50/Financial Services/Banks/KOTAKBANK",
          "NIFTY 50/Industrials/Construction/LT",
          "NIFTY 50/Information Technology/IT - Software/LTIM",
          "NIFTY 50/Consumer Discretionary/Automobiles/M&M",
          "NIFTY 50/Consumer Discretionary/Automobiles/MARUTI",
          "NIFTY 50/Fast Moving Consumer Goods/Food Products/NESTLEIND",
          "NIFTY 50/Utilities/Power/NTPC",
          "NIFTY 50/Energy/Oil/ONGC",
          "NIFTY 50/Utilities/Power/POWERGRID",
          "NIFTY 50/Energy/Petroleum Products/RELIANCE",
          "NIFTY 50/Financial Services/Insurance/SBILIFE",
          "NIFTY 50/Financial Services/Banks/SBIN",
          "NIFTY 50/Financial Services/Finance/SHRIRAMFIN",
          "NIFTY 50/Healthcare/Pharmaceuticals & Biotechnology/SUNPHARMA",
          "NIFTY 50/Fast Moving Consumer Goods/Agricultural Food & other Products/TATACONSUM",
          "NIFTY 50/Consumer Discretionary/Automobiles/TATAMOTORS",
          "NIFTY 50/Commodities/Ferrous Metals/TATASTEEL",
          "NIFTY 50/Information Technology/IT - Software/TCS",
          "NIFTY 50/Information Technology/IT - Software/TECHM",
          "NIFTY 50/Consumer Discretionary/Consumer Durables/TITAN",
          "NIFTY 50/Commodities/Cement & Cement Products/ULTRACEMCO",
          "NIFTY 50/Information Technology/IT - Software/WIPRO",
          "NIFTY 50/Fast Moving Consumer Goods/Agricultural Food & other Products",
          "NIFTY 50/Consumer Discretionary/Automobiles",
          "NIFTY 50/Financial Services/Banks",
          "NIFTY 50/Commodities/Cement & Cement Products",
          "NIFTY 50/Industrials/Construction",
          "NIFTY 50/Energy/Consumable Fuels",
          "NIFTY 50/Consumer Discretionary/Consumer Durables",
          "NIFTY 50/Fast Moving Consumer Goods/Diversified FMCG",
          "NIFTY 50/Commodities/Ferrous Metals",
          "NIFTY 50/Financial Services/Finance",
          "NIFTY 50/Fast Moving Consumer Goods/Food Products",
          "NIFTY 50/Healthcare/Healthcare Services",
          "NIFTY 50/Information Technology/IT - Software",
          "NIFTY 50/Financial Services/Insurance",
          "NIFTY 50/Commodities/Metals & Minerals Trading",
          "NIFTY 50/Commodities/Non - Ferrous Metals",
          "NIFTY 50/Energy/Oil",
          "NIFTY 50/Energy/Petroleum Products",
          "NIFTY 50/Healthcare/Pharmaceuticals & Biotechnology",
          "NIFTY 50/Utilities/Power",
          "NIFTY 50/Telecommunication/Telecom - Services",
          "NIFTY 50/Services/Transport Infrastructure",
          "NIFTY 50/Commodities",
          "NIFTY 50/Consumer Discretionary",
          "NIFTY 50/Energy",
          "NIFTY 50/Fast Moving Consumer Goods",
          "NIFTY 50/Financial Services",
          "NIFTY 50/Healthcare",
          "NIFTY 50/Industrials",
          "NIFTY 50/Information Technology",
          "NIFTY 50/Services",
          "NIFTY 50/Telecommunication",
          "NIFTY 50/Utilities",
          "NIFTY 50"
         ],
         "labels": [
          "ADANIENT",
          "ADANIPORTS",
          "APOLLOHOSP",
          "ASIANPAINT",
          "AXISBANK",
          "BAJAJ-AUTO",
          "BAJAJFINSV",
          "BAJFINANCE",
          "BHARTIARTL",
          "BPCL",
          "BRITANNIA",
          "CIPLA",
          "COALINDIA",
          "DIVISLAB",
          "DRREDDY",
          "EICHERMOT",
          "GRASIM",
          "HCLTECH",
          "HDFCBANK",
          "HDFCLIFE",
          "HEROMOTOCO",
          "HINDALCO",
          "HINDUNILVR",
          "ICICIBANK",
          "INDUSINDBK",
          "INFY",
          "ITC",
          "JSWSTEEL",
          "KOTAKBANK",
          "LT",
          "LTIM",
          "M&M",
          "MARUTI",
          "NESTLEIND",
          "NTPC",
          "ONGC",
          "POWERGRID",
          "RELIANCE",
          "SBILIFE",
          "SBIN",
          "SHRIRAMFIN",
          "SUNPHARMA",
          "TATACONSUM",
          "TATAMOTORS",
          "TATASTEEL",
          "TCS",
          "TECHM",
          "TITAN",
          "ULTRACEMCO",
          "WIPRO",
          "Agricultural Food & other Products",
          "Automobiles",
          "Banks",
          "Cement & Cement Products",
          "Construction",
          "Consumable Fuels",
          "Consumer Durables",
          "Diversified FMCG",
          "Ferrous Metals",
          "Finance",
          "Food Products",
          "Healthcare Services",
          "IT - Software",
          "Insurance",
          "Metals & Minerals Trading",
          "Non - Ferrous Metals",
          "Oil",
          "Petroleum Products",
          "Pharmaceuticals & Biotechnology",
          "Power",
          "Telecom - Services",
          "Transport Infrastructure",
          "Commodities",
          "Consumer Discretionary",
          "Energy",
          "Fast Moving Consumer Goods",
          "Financial Services",
          "Healthcare",
          "Industrials",
          "Information Technology",
          "Services",
          "Telecommunication",
          "Utilities",
          "NIFTY 50"
         ],
         "marker": {
          "coloraxis": "coloraxis",
          "colors": [
           0.8263194900937378,
           0.6232216339558363,
           -0.5819004476070404,
           -0.05437225631127756,
           -0.2533990328665823,
           0.11573109589517115,
           0.2330766981467605,
           0.5183691048296168,
           0.1940407645888626,
           0.47296758228912944,
           0.03874512901529665,
           0.3095729586978753,
           0.46393376200770337,
           0.6052825744263828,
           0.04434634838253264,
           0.4501022202894091,
           0.4392490827788909,
           0.13205407653003928,
           0.2775220808883508,
           0.30720387352630496,
           0.23313986898089448,
           -0.9017052501440048,
           0.028135218967994032,
           0.0284758913330733,
           0.6277631044698259,
           0.7970681684091687,
           0.16429568881479403,
           0.48297815187834203,
           -0.8714605861653885,
           -0.02161552710458642,
           -0.7866305367400249,
           0.5801761249701182,
           0.44449625769630075,
           -0.006934613920748271,
           0.37210455210879445,
           -0.013388610677793678,
           0.5407157251611352,
           0.4307641228660941,
           0.33693206589668984,
           -0.12263561668805774,
           0.933178823441267,
           0.7278925068676472,
           0.06492462730966504,
           0.45954979707797367,
           0.0161892119795084,
           -0.11274718912318346,
           0.3994510074456533,
           -0.16750414599664512,
           0.02978196740150447,
           -0.6382181130660077,
           0.06492462730966504,
           0.4113126521862201,
           -0.017756797148279425,
           0.1739256553321958,
           -0.02161552710458642,
           0.46393376200770337,
           -0.1128168504426817,
           0.09528077938838314,
           0.2586407478261716,
           0.4832403015382726,
           0.010131346690031849,
           -0.5819004476070404,
           0.07315903978296787,
           0.3232144099638827,
           0.8263194900937378,
           -0.9017052501440048,
           -0.013388610677793678,
           0.433571850403044,
           0.5409491663434274,
           0.44876078958577564,
           0.1940407645888626,
           0.6232216339558363,
           0.24573080330359973,
           0.2739352101077711,
           0.3731208465333675,
           0.07478911202637732,
           0.0878921468908563,
           0.4183439917101374,
           -0.02161552710458642,
           0.07315903978296787,
           0.6232216339558363,
           0.1940407645888626,
           0.44876078958577564,
           0.19695187110236395
          ]
         },
         "name": "",
         "parents": [
          "NIFTY 50/Commodities/Metals & Minerals Trading",
          "NIFTY 50/Services/Transport Infrastructure",
          "NIFTY 50/Healthcare/Healthcare Services",
          "NIFTY 50/Consumer Discretionary/Consumer Durables",
          "NIFTY 50/Financial Services/Banks",
          "NIFTY 50/Consumer Discretionary/Automobiles",
          "NIFTY 50/Financial Services/Finance",
          "NIFTY 50/Financial Services/Finance",
          "NIFTY 50/Telecommunication/Telecom - Services",
          "NIFTY 50/Energy/Petroleum Products",
          "NIFTY 50/Fast Moving Consumer Goods/Food Products",
          "NIFTY 50/Healthcare/Pharmaceuticals & Biotechnology",
          "NIFTY 50/Energy/Consumable Fuels",
          "NIFTY 50/Healthcare/Pharmaceuticals & Biotechnology",
          "NIFTY 50/Healthcare/Pharmaceuticals & Biotechnology",
          "NIFTY 50/Consumer Discretionary/Automobiles",
          "NIFTY 50/Commodities/Cement & Cement Products",
          "NIFTY 50/Information Technology/IT - Software",
          "NIFTY 50/Financial Services/Banks",
          "NIFTY 50/Financial Services/Insurance",
          "NIFTY 50/Consumer Discretionary/Automobiles",
          "NIFTY 50/Commodities/Non - Ferrous Metals",
          "NIFTY 50/Fast Moving Consumer Goods/Diversified FMCG",
          "NIFTY 50/Financial Services/Banks",
          "NIFTY 50/Financial Services/Banks",
          "NIFTY 50/Information Technology/IT - Software",
          "NIFTY 50/Fast Moving Consumer Goods/Diversified FMCG",
          "NIFTY 50/Commodities/Ferrous Metals",
          "NIFTY 50/Financial Services/Banks",
          "NIFTY 50/Industrials/Construction",
          "NIFTY 50/Information Technology/IT - Software",
          "NIFTY 50/Consumer Discretionary/Automobiles",
          "NIFTY 50/Consumer Discretionary/Automobiles",
          "NIFTY 50/Fast Moving Consumer Goods/Food Products",
          "NIFTY 50/Utilities/Power",
          "NIFTY 50/Energy/Oil",
          "NIFTY 50/Utilities/Power",
          "NIFTY 50/Energy/Petroleum Products",
          "NIFTY 50/Financial Services/Insurance",
          "NIFTY 50/Financial Services/Banks",
          "NIFTY 50/Financial Services/Finance",
          "NIFTY 50/Healthcare/Pharmaceuticals & Biotechnology",
          "NIFTY 50/Fast Moving Consumer Goods/Agricultural Food & other Products",
          "NIFTY 50/Consumer Discretionary/Automobiles",
          "NIFTY 50/Commodities/Ferrous Metals",
          "NIFTY 50/Information Technology/IT - Software",
          "NIFTY 50/Information Technology/IT - Software",
          "NIFTY 50/Consumer Discretionary/Consumer Durables",
          "NIFTY 50/Commodities/Cement & Cement Products",
          "NIFTY 50/Information Technology/IT - Software",
          "NIFTY 50/Fast Moving Consumer Goods",
          "NIFTY 50/Consumer Discretionary",
          "NIFTY 50/Financial Services",
          "NIFTY 50/Commodities",
          "NIFTY 50/Industrials",
          "NIFTY 50/Energy",
          "NIFTY 50/Consumer Discretionary",
          "NIFTY 50/Fast Moving Consumer Goods",
          "NIFTY 50/Commodities",
          "NIFTY 50/Financial Services",
          "NIFTY 50/Fast Moving Consumer Goods",
          "NIFTY 50/Healthcare",
          "NIFTY 50/Information Technology",
          "NIFTY 50/Financial Services",
          "NIFTY 50/Commodities",
          "NIFTY 50/Commodities",
          "NIFTY 50/Energy",
          "NIFTY 50/Energy",
          "NIFTY 50/Healthcare",
          "NIFTY 50/Utilities",
          "NIFTY 50/Telecommunication",
          "NIFTY 50/Services",
          "NIFTY 50",
          "NIFTY 50",
          "NIFTY 50",
          "NIFTY 50",
          "NIFTY 50",
          "NIFTY 50",
          "NIFTY 50",
          "NIFTY 50",
          "NIFTY 50",
          "NIFTY 50",
          "NIFTY 50",
          ""
         ],
         "textposition": "middle center",
         "texttemplate": "%{label}<br>%{customdata[4]}",
         "type": "treemap",
         "values": [
          3521.86,
          3345.41,
          960.72,
          2834.14,
          3616.64,
          2668.3,
          2582.04,
          4216.88,
          8432.28,
          1465.98,
          1420.54,
          1254.9,
          3156.24,
          1307.13,
          1141.12,
          1359.71,
          1862.31,
          4429.65,
          12221.04,
          1498.91,
          1084.5,
          1498.56,
          6371.15,
          8535.69,
          1099.17,
          7768.86,
          6198.58,
          2197.36,
          3566.49,
          5189.98,
          1713.78,
          3647.27,
          4009.12,
          2381.76,
          3819.52,
          4187.97,
          3184.06,
          20569.43,
          1749.45,
          7778.69,
          1106.37,
          4134.65,
          1188.76,
          3736.92,
          2033.19,
          15851.2,
          1491.68,
          3028.86,
          3427.93,
          2742.89,
          1188.76,
          16505.82,
          36817.72,
          5290.24,
          5189.98,
          3156.24,
          5863,
          12569.73,
          4230.55,
          7905.29,
          3802.3,
          960.72,
          33998.06,
          3248.36,
          3521.86,
          1498.56,
          4187.97,
          22035.41,
          7837.799999999999,
          7003.58,
          8432.28,
          3345.41,
          14541.21,
          22368.82,
          29379.620000000003,
          17560.79,
          47971.37,
          8798.52,
          5189.98,
          33998.06,
          3345.41,
          8432.28,
          7003.58,
          198589.64
         ]
        }
       ],
       "layout": {
        "coloraxis": {
         "cmid": 0,
         "colorbar": {
          "title": {
           "text": "Sentiment Score"
          }
         },
         "colorscale": [
          [
           0,
           "#FF0000"
          ],
          [
           0.5,
           "#000000"
          ],
          [
           1,
           "#00FF00"
          ]
         ]
        },
        "font": {
         "size": 20
        },
        "height": 800,
        "legend": {
         "tracegroupgap": 0
        },
        "margin": {
         "b": 10,
         "l": 10,
         "r": 10,
         "t": 30
        },
        "template": {
         "data": {
          "bar": [
           {
            "error_x": {
             "color": "#2a3f5f"
            },
            "error_y": {
             "color": "#2a3f5f"
            },
            "marker": {
             "line": {
              "color": "#E5ECF6",
              "width": 0.5
             },
             "pattern": {
              "fillmode": "overlay",
              "size": 10,
              "solidity": 0.2
             }
            },
            "type": "bar"
           }
          ],
          "barpolar": [
           {
            "marker": {
             "line": {
              "color": "#E5ECF6",
              "width": 0.5
             },
             "pattern": {
              "fillmode": "overlay",
              "size": 10,
              "solidity": 0.2
             }
            },
            "type": "barpolar"
           }
          ],
          "carpet": [
           {
            "aaxis": {
             "endlinecolor": "#2a3f5f",
             "gridcolor": "white",
             "linecolor": "white",
             "minorgridcolor": "white",
             "startlinecolor": "#2a3f5f"
            },
            "baxis": {
             "endlinecolor": "#2a3f5f",
             "gridcolor": "white",
             "linecolor": "white",
             "minorgridcolor": "white",
             "startlinecolor": "#2a3f5f"
            },
            "type": "carpet"
           }
          ],
          "choropleth": [
           {
            "colorbar": {
             "outlinewidth": 0,
             "ticks": ""
            },
            "type": "choropleth"
           }
          ],
          "contour": [
           {
            "colorbar": {
             "outlinewidth": 0,
             "ticks": ""
            },
            "colorscale": [
             [
              0,
              "#0d0887"
             ],
             [
              0.1111111111111111,
              "#46039f"
             ],
             [
              0.2222222222222222,
              "#7201a8"
             ],
             [
              0.3333333333333333,
              "#9c179e"
             ],
             [
              0.4444444444444444,
              "#bd3786"
             ],
             [
              0.5555555555555556,
              "#d8576b"
             ],
             [
              0.6666666666666666,
              "#ed7953"
             ],
             [
              0.7777777777777778,
              "#fb9f3a"
             ],
             [
              0.8888888888888888,
              "#fdca26"
             ],
             [
              1,
              "#f0f921"
             ]
            ],
            "type": "contour"
           }
          ],
          "contourcarpet": [
           {
            "colorbar": {
             "outlinewidth": 0,
             "ticks": ""
            },
            "type": "contourcarpet"
           }
          ],
          "heatmap": [
           {
            "colorbar": {
             "outlinewidth": 0,
             "ticks": ""
            },
            "colorscale": [
             [
              0,
              "#0d0887"
             ],
             [
              0.1111111111111111,
              "#46039f"
             ],
             [
              0.2222222222222222,
              "#7201a8"
             ],
             [
              0.3333333333333333,
              "#9c179e"
             ],
             [
              0.4444444444444444,
              "#bd3786"
             ],
             [
              0.5555555555555556,
              "#d8576b"
             ],
             [
              0.6666666666666666,
              "#ed7953"
             ],
             [
              0.7777777777777778,
              "#fb9f3a"
             ],
             [
              0.8888888888888888,
              "#fdca26"
             ],
             [
              1,
              "#f0f921"
             ]
            ],
            "type": "heatmap"
           }
          ],
          "heatmapgl": [
           {
            "colorbar": {
             "outlinewidth": 0,
             "ticks": ""
            },
            "colorscale": [
             [
              0,
              "#0d0887"
             ],
             [
              0.1111111111111111,
              "#46039f"
             ],
             [
              0.2222222222222222,
              "#7201a8"
             ],
             [
              0.3333333333333333,
              "#9c179e"
             ],
             [
              0.4444444444444444,
              "#bd3786"
             ],
             [
              0.5555555555555556,
              "#d8576b"
             ],
             [
              0.6666666666666666,
              "#ed7953"
             ],
             [
              0.7777777777777778,
              "#fb9f3a"
             ],
             [
              0.8888888888888888,
              "#fdca26"
             ],
             [
              1,
              "#f0f921"
             ]
            ],
            "type": "heatmapgl"
           }
          ],
          "histogram": [
           {
            "marker": {
             "pattern": {
              "fillmode": "overlay",
              "size": 10,
              "solidity": 0.2
             }
            },
            "type": "histogram"
           }
          ],
          "histogram2d": [
           {
            "colorbar": {
             "outlinewidth": 0,
             "ticks": ""
            },
            "colorscale": [
             [
              0,
              "#0d0887"
             ],
             [
              0.1111111111111111,
              "#46039f"
             ],
             [
              0.2222222222222222,
              "#7201a8"
             ],
             [
              0.3333333333333333,
              "#9c179e"
             ],
             [
              0.4444444444444444,
              "#bd3786"
             ],
             [
              0.5555555555555556,
              "#d8576b"
             ],
             [
              0.6666666666666666,
              "#ed7953"
             ],
             [
              0.7777777777777778,
              "#fb9f3a"
             ],
             [
              0.8888888888888888,
              "#fdca26"
             ],
             [
              1,
              "#f0f921"
             ]
            ],
            "type": "histogram2d"
           }
          ],
          "histogram2dcontour": [
           {
            "colorbar": {
             "outlinewidth": 0,
             "ticks": ""
            },
            "colorscale": [
             [
              0,
              "#0d0887"
             ],
             [
              0.1111111111111111,
              "#46039f"
             ],
             [
              0.2222222222222222,
              "#7201a8"
             ],
             [
              0.3333333333333333,
              "#9c179e"
             ],
             [
              0.4444444444444444,
              "#bd3786"
             ],
             [
              0.5555555555555556,
              "#d8576b"
             ],
             [
              0.6666666666666666,
              "#ed7953"
             ],
             [
              0.7777777777777778,
              "#fb9f3a"
             ],
             [
              0.8888888888888888,
              "#fdca26"
             ],
             [
              1,
              "#f0f921"
             ]
            ],
            "type": "histogram2dcontour"
           }
          ],
          "mesh3d": [
           {
            "colorbar": {
             "outlinewidth": 0,
             "ticks": ""
            },
            "type": "mesh3d"
           }
          ],
          "parcoords": [
           {
            "line": {
             "colorbar": {
              "outlinewidth": 0,
              "ticks": ""
             }
            },
            "type": "parcoords"
           }
          ],
          "pie": [
           {
            "automargin": true,
            "type": "pie"
           }
          ],
          "scatter": [
           {
            "fillpattern": {
             "fillmode": "overlay",
             "size": 10,
             "solidity": 0.2
            },
            "type": "scatter"
           }
          ],
          "scatter3d": [
           {
            "line": {
             "colorbar": {
              "outlinewidth": 0,
              "ticks": ""
             }
            },
            "marker": {
             "colorbar": {
              "outlinewidth": 0,
              "ticks": ""
             }
            },
            "type": "scatter3d"
           }
          ],
          "scattercarpet": [
           {
            "marker": {
             "colorbar": {
              "outlinewidth": 0,
              "ticks": ""
             }
            },
            "type": "scattercarpet"
           }
          ],
          "scattergeo": [
           {
            "marker": {
             "colorbar": {
              "outlinewidth": 0,
              "ticks": ""
             }
            },
            "type": "scattergeo"
           }
          ],
          "scattergl": [
           {
            "marker": {
             "colorbar": {
              "outlinewidth": 0,
              "ticks": ""
             }
            },
            "type": "scattergl"
           }
          ],
          "scattermapbox": [
           {
            "marker": {
             "colorbar": {
              "outlinewidth": 0,
              "ticks": ""
             }
            },
            "type": "scattermapbox"
           }
          ],
          "scatterpolar": [
           {
            "marker": {
             "colorbar": {
              "outlinewidth": 0,
              "ticks": ""
             }
            },
            "type": "scatterpolar"
           }
          ],
          "scatterpolargl": [
           {
            "marker": {
             "colorbar": {
              "outlinewidth": 0,
              "ticks": ""
             }
            },
            "type": "scatterpolargl"
           }
          ],
          "scatterternary": [
           {
            "marker": {
             "colorbar": {
              "outlinewidth": 0,
              "ticks": ""
             }
            },
            "type": "scatterternary"
           }
          ],
          "surface": [
           {
            "colorbar": {
             "outlinewidth": 0,
             "ticks": ""
            },
            "colorscale": [
             [
              0,
              "#0d0887"
             ],
             [
              0.1111111111111111,
              "#46039f"
             ],
             [
              0.2222222222222222,
              "#7201a8"
             ],
             [
              0.3333333333333333,
              "#9c179e"
             ],
             [
              0.4444444444444444,
              "#bd3786"
             ],
             [
              0.5555555555555556,
              "#d8576b"
             ],
             [
              0.6666666666666666,
              "#ed7953"
             ],
             [
              0.7777777777777778,
              "#fb9f3a"
             ],
             [
              0.8888888888888888,
              "#fdca26"
             ],
             [
              1,
              "#f0f921"
             ]
            ],
            "type": "surface"
           }
          ],
          "table": [
           {
            "cells": {
             "fill": {
              "color": "#EBF0F8"
             },
             "line": {
              "color": "white"
             }
            },
            "header": {
             "fill": {
              "color": "#C8D4E3"
             },
             "line": {
              "color": "white"
             }
            },
            "type": "table"
           }
          ]
         },
         "layout": {
          "annotationdefaults": {
           "arrowcolor": "#2a3f5f",
           "arrowhead": 0,
           "arrowwidth": 1
          },
          "autotypenumbers": "strict",
          "coloraxis": {
           "colorbar": {
            "outlinewidth": 0,
            "ticks": ""
           }
          },
          "colorscale": {
           "diverging": [
            [
             0,
             "#8e0152"
            ],
            [
             0.1,
             "#c51b7d"
            ],
            [
             0.2,
             "#de77ae"
            ],
            [
             0.3,
             "#f1b6da"
            ],
            [
             0.4,
             "#fde0ef"
            ],
            [
             0.5,
             "#f7f7f7"
            ],
            [
             0.6,
             "#e6f5d0"
            ],
            [
             0.7,
             "#b8e186"
            ],
            [
             0.8,
             "#7fbc41"
            ],
            [
             0.9,
             "#4d9221"
            ],
            [
             1,
             "#276419"
            ]
           ],
           "sequential": [
            [
             0,
             "#0d0887"
            ],
            [
             0.1111111111111111,
             "#46039f"
            ],
            [
             0.2222222222222222,
             "#7201a8"
            ],
            [
             0.3333333333333333,
             "#9c179e"
            ],
            [
             0.4444444444444444,
             "#bd3786"
            ],
            [
             0.5555555555555556,
             "#d8576b"
            ],
            [
             0.6666666666666666,
             "#ed7953"
            ],
            [
             0.7777777777777778,
             "#fb9f3a"
            ],
            [
             0.8888888888888888,
             "#fdca26"
            ],
            [
             1,
             "#f0f921"
            ]
           ],
           "sequentialminus": [
            [
             0,
             "#0d0887"
            ],
            [
             0.1111111111111111,
             "#46039f"
            ],
            [
             0.2222222222222222,
             "#7201a8"
            ],
            [
             0.3333333333333333,
             "#9c179e"
            ],
            [
             0.4444444444444444,
             "#bd3786"
            ],
            [
             0.5555555555555556,
             "#d8576b"
            ],
            [
             0.6666666666666666,
             "#ed7953"
            ],
            [
             0.7777777777777778,
             "#fb9f3a"
            ],
            [
             0.8888888888888888,
             "#fdca26"
            ],
            [
             1,
             "#f0f921"
            ]
           ]
          },
          "colorway": [
           "#636efa",
           "#EF553B",
           "#00cc96",
           "#ab63fa",
           "#FFA15A",
           "#19d3f3",
           "#FF6692",
           "#B6E880",
           "#FF97FF",
           "#FECB52"
          ],
          "font": {
           "color": "#2a3f5f"
          },
          "geo": {
           "bgcolor": "white",
           "lakecolor": "white",
           "landcolor": "#E5ECF6",
           "showlakes": true,
           "showland": true,
           "subunitcolor": "white"
          },
          "hoverlabel": {
           "align": "left"
          },
          "hovermode": "closest",
          "mapbox": {
           "style": "light"
          },
          "paper_bgcolor": "white",
          "plot_bgcolor": "#E5ECF6",
          "polar": {
           "angularaxis": {
            "gridcolor": "white",
            "linecolor": "white",
            "ticks": ""
           },
           "bgcolor": "#E5ECF6",
           "radialaxis": {
            "gridcolor": "white",
            "linecolor": "white",
            "ticks": ""
           }
          },
          "scene": {
           "xaxis": {
            "backgroundcolor": "#E5ECF6",
            "gridcolor": "white",
            "gridwidth": 2,
            "linecolor": "white",
            "showbackground": true,
            "ticks": "",
            "zerolinecolor": "white"
           },
           "yaxis": {
            "backgroundcolor": "#E5ECF6",
            "gridcolor": "white",
            "gridwidth": 2,
            "linecolor": "white",
            "showbackground": true,
            "ticks": "",
            "zerolinecolor": "white"
           },
           "zaxis": {
            "backgroundcolor": "#E5ECF6",
            "gridcolor": "white",
            "gridwidth": 2,
            "linecolor": "white",
            "showbackground": true,
            "ticks": "",
            "zerolinecolor": "white"
           }
          },
          "shapedefaults": {
           "line": {
            "color": "#2a3f5f"
           }
          },
          "ternary": {
           "aaxis": {
            "gridcolor": "white",
            "linecolor": "white",
            "ticks": ""
           },
           "baxis": {
            "gridcolor": "white",
            "linecolor": "white",
            "ticks": ""
           },
           "bgcolor": "#E5ECF6",
           "caxis": {
            "gridcolor": "white",
            "linecolor": "white",
            "ticks": ""
           }
          },
          "title": {
           "x": 0.05
          },
          "xaxis": {
           "automargin": true,
           "gridcolor": "white",
           "linecolor": "white",
           "ticks": "",
           "title": {
            "standoff": 15
           },
           "zerolinecolor": "white",
           "zerolinewidth": 2
          },
          "yaxis": {
           "automargin": true,
           "gridcolor": "white",
           "linecolor": "white",
           "ticks": "",
           "title": {
            "standoff": 15
           },
           "zerolinecolor": "white",
           "zerolinewidth": 2
          }
         }
        }
       }
      }
     },
     "metadata": {},
     "output_type": "display_data"
    }
   ],
   "source": [
    "# Plotting\n",
    "fig = px.treemap(\n",
    "    final_df,\n",
    "    path=[px.Constant(universe_string), \"Sector\", \"Industry\", \"Ticker\"],\n",
    "    values=\"Market Cap (Billion Rs)\",\n",
    "    color=\"Sentiment Score\",\n",
    "    hover_data=[\"Company Name\", \"negative\", \"positive\", \"Sentiment Score\"],\n",
    "    color_continuous_scale=[\"#FF0000\", \"#000000\", \"#00FF00\"],\n",
    "    color_continuous_midpoint=0,\n",
    ")\n",
    "# fig.data[0].customdata = final_df[['Company Name', 'Negative', 'Neutral', 'Positive', 'Sentiment Score']]\n",
    "fig.data[0].texttemplate = \"%{label}<br>%{customdata[4]}\"\n",
    "fig.update_traces(textposition=\"middle center\")\n",
    "fig.update_layout(height=800)\n",
    "fig.update_layout(margin=dict(t=30, l=10, r=10, b=10), font_size=20)"
   ]
  }
 ],
 "metadata": {
  "kernelspec": {
   "display_name": "Python 3",
   "language": "python",
   "name": "python3"
  },
  "language_info": {
   "codemirror_mode": {
    "name": "ipython",
    "version": 3
   },
   "file_extension": ".py",
   "mimetype": "text/x-python",
   "name": "python",
   "nbconvert_exporter": "python",
   "pygments_lexer": "ipython3",
   "version": "3.10.14"
  },
  "orig_nbformat": 4,
  "vscode": {
   "interpreter": {
    "hash": "236178af6f648e00519e077836b3ac634bd3def9b921796a679cc929c64b686e"
   }
  }
 },
 "nbformat": 4,
 "nbformat_minor": 2
}
