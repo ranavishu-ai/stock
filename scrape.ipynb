{
 "cells": [
  {
   "cell_type": "code",
   "execution_count": 1,
   "metadata": {},
   "outputs": [],
   "source": [
    "import requests\n",
    "from bs4 import BeautifulSoup\n",
    "import duckdb as db\n",
    "import logging\n",
    "import concurrent.futures"
   ]
  },
  {
   "cell_type": "code",
   "execution_count": 2,
   "metadata": {},
   "outputs": [],
   "source": [
    "news_providers = {\n",
    "    \"google_finance\": {\n",
    "        \"base_url\": \"https://www.google.com/finance/quote/{}:NSE\",\n",
    "        \"schema\": {\n",
    "            \"base_selector\": \"div.yY3Lee\",\n",
    "            \"title\": \"div.Yfwt5\",\n",
    "            \"content\": None,\n",
    "            \"date_posted\": \"div.Adak\",\n",
    "            \"source\": \"div.sfyJob\",\n",
    "            \"link\": \"a\",\n",
    "        }\n",
    "    },\n",
    "    \"yahoo_finance\": {\n",
    "        \"base_url\": \"https://finance.yahoo.com/quote/{}.NS\",\n",
    "        \"schema\": {\n",
    "            \"base_selector\": \"div.stream-item.yf-ovk92u\",\n",
    "            \"title\": \"h1\",\n",
    "            \"content\": \"p\",\n",
    "            \"date_posted\": \"time\",\n",
    "            \"source\": \"span\",\n",
    "            \"link\": \"a\",\n",
    "        }\n",
    "    },\n",
    "    \"finology_ticker\": {\n",
    "        \"base_url\": \"https://ticker.finology.in/company/{}\",\n",
    "        \"schema\": {\n",
    "            \"base_selector\": \"div\",\n",
    "            \"title\": \"h1\",\n",
    "            \"content\": \"p\",\n",
    "            \"date_posted\": \"time\",\n",
    "            \"source\": \"span\",\n",
    "            \"link\": \"a\",\n",
    "        }\n",
    "    },\n",
    "    # \"screener\": {\n",
    "    #     \"base_url\": \"https://www.screener.in/company/\",\n",
    "    #     \"schema\": {\n",
    "    #         \"base_selector\": \"div\",\n",
    "    #         \"title\": \"h1\",\n",
    "    #         \"content\": \"p\",\n",
    "    #         \"date_posted\": \"time\",\n",
    "    #         \"source\": \"span\",\n",
    "    #         \"link\": \"a\",\n",
    "    #     }\n",
    "    # },\n",
    "}"
   ]
  },
  {
   "cell_type": "code",
   "execution_count": 5,
   "metadata": {},
   "outputs": [],
   "source": [
    "with db.connect('datasets/ticker_data.db') as conn:\n",
    "    tickers_df = conn.execute('select * from ticker_meta').df()"
   ]
  },
  {
   "cell_type": "code",
   "execution_count": 9,
   "metadata": {},
   "outputs": [],
   "source": [
    "tickers_list = tickers_df.ticker.to_list()"
   ]
  },
  {
   "cell_type": "code",
   "execution_count": 13,
   "metadata": {},
   "outputs": [
    {
     "data": {
      "text/plain": [
       "'https://www.google.com/finance/quote/{}:NSE'"
      ]
     },
     "execution_count": 13,
     "metadata": {},
     "output_type": "execute_result"
    }
   ],
   "source": [
    "news_providers['google_finance']['base_url']"
   ]
  },
  {
   "cell_type": "code",
   "execution_count": 14,
   "metadata": {},
   "outputs": [],
   "source": [
    "import itertools"
   ]
  },
  {
   "cell_type": "code",
   "execution_count": 15,
   "metadata": {},
   "outputs": [
    {
     "data": {
      "text/plain": [
       "['https://www.google.com/finance/quote/{}:NSE',\n",
       " 'https://finance.yahoo.com/quote/{}.NS',\n",
       " 'https://ticker.finology.in/company/{}']"
      ]
     },
     "execution_count": 15,
     "metadata": {},
     "output_type": "execute_result"
    }
   ],
   "source": [
    "[provider['base_url'] for provider in news_providers.values()]"
   ]
  },
  {
   "cell_type": "code",
   "execution_count": 22,
   "metadata": {},
   "outputs": [
    {
     "data": {
      "text/plain": [
       "['https://www.google.com/finance/quote/ADANIENT:NSE',\n",
       " 'https://finance.yahoo.com/quote/ADANIENT.NS',\n",
       " 'https://ticker.finology.in/company/ADANIENT',\n",
       " 'https://www.google.com/finance/quote/ADANIPORTS:NSE',\n",
       " 'https://finance.yahoo.com/quote/ADANIPORTS.NS',\n",
       " 'https://ticker.finology.in/company/ADANIPORTS',\n",
       " 'https://www.google.com/finance/quote/APOLLOHOSP:NSE',\n",
       " 'https://finance.yahoo.com/quote/APOLLOHOSP.NS',\n",
       " 'https://ticker.finology.in/company/APOLLOHOSP',\n",
       " 'https://www.google.com/finance/quote/ASIANPAINT:NSE',\n",
       " 'https://finance.yahoo.com/quote/ASIANPAINT.NS',\n",
       " 'https://ticker.finology.in/company/ASIANPAINT',\n",
       " 'https://www.google.com/finance/quote/AXISBANK:NSE',\n",
       " 'https://finance.yahoo.com/quote/AXISBANK.NS',\n",
       " 'https://ticker.finology.in/company/AXISBANK',\n",
       " 'https://www.google.com/finance/quote/BAJAJ-AUTO:NSE',\n",
       " 'https://finance.yahoo.com/quote/BAJAJ-AUTO.NS',\n",
       " 'https://ticker.finology.in/company/BAJAJ-AUTO',\n",
       " 'https://www.google.com/finance/quote/BAJFINANCE:NSE',\n",
       " 'https://finance.yahoo.com/quote/BAJFINANCE.NS',\n",
       " 'https://ticker.finology.in/company/BAJFINANCE',\n",
       " 'https://www.google.com/finance/quote/BAJAJFINSV:NSE',\n",
       " 'https://finance.yahoo.com/quote/BAJAJFINSV.NS',\n",
       " 'https://ticker.finology.in/company/BAJAJFINSV',\n",
       " 'https://www.google.com/finance/quote/BEL:NSE',\n",
       " 'https://finance.yahoo.com/quote/BEL.NS',\n",
       " 'https://ticker.finology.in/company/BEL',\n",
       " 'https://www.google.com/finance/quote/BPCL:NSE',\n",
       " 'https://finance.yahoo.com/quote/BPCL.NS',\n",
       " 'https://ticker.finology.in/company/BPCL',\n",
       " 'https://www.google.com/finance/quote/BHARTIARTL:NSE',\n",
       " 'https://finance.yahoo.com/quote/BHARTIARTL.NS',\n",
       " 'https://ticker.finology.in/company/BHARTIARTL',\n",
       " 'https://www.google.com/finance/quote/BRITANNIA:NSE',\n",
       " 'https://finance.yahoo.com/quote/BRITANNIA.NS',\n",
       " 'https://ticker.finology.in/company/BRITANNIA',\n",
       " 'https://www.google.com/finance/quote/CIPLA:NSE',\n",
       " 'https://finance.yahoo.com/quote/CIPLA.NS',\n",
       " 'https://ticker.finology.in/company/CIPLA',\n",
       " 'https://www.google.com/finance/quote/COALINDIA:NSE',\n",
       " 'https://finance.yahoo.com/quote/COALINDIA.NS',\n",
       " 'https://ticker.finology.in/company/COALINDIA',\n",
       " 'https://www.google.com/finance/quote/DRREDDY:NSE',\n",
       " 'https://finance.yahoo.com/quote/DRREDDY.NS',\n",
       " 'https://ticker.finology.in/company/DRREDDY',\n",
       " 'https://www.google.com/finance/quote/EICHERMOT:NSE',\n",
       " 'https://finance.yahoo.com/quote/EICHERMOT.NS',\n",
       " 'https://ticker.finology.in/company/EICHERMOT',\n",
       " 'https://www.google.com/finance/quote/GRASIM:NSE',\n",
       " 'https://finance.yahoo.com/quote/GRASIM.NS',\n",
       " 'https://ticker.finology.in/company/GRASIM',\n",
       " 'https://www.google.com/finance/quote/HCLTECH:NSE',\n",
       " 'https://finance.yahoo.com/quote/HCLTECH.NS',\n",
       " 'https://ticker.finology.in/company/HCLTECH',\n",
       " 'https://www.google.com/finance/quote/HDFCBANK:NSE',\n",
       " 'https://finance.yahoo.com/quote/HDFCBANK.NS',\n",
       " 'https://ticker.finology.in/company/HDFCBANK',\n",
       " 'https://www.google.com/finance/quote/HDFCLIFE:NSE',\n",
       " 'https://finance.yahoo.com/quote/HDFCLIFE.NS',\n",
       " 'https://ticker.finology.in/company/HDFCLIFE',\n",
       " 'https://www.google.com/finance/quote/HEROMOTOCO:NSE',\n",
       " 'https://finance.yahoo.com/quote/HEROMOTOCO.NS',\n",
       " 'https://ticker.finology.in/company/HEROMOTOCO',\n",
       " 'https://www.google.com/finance/quote/HINDALCO:NSE',\n",
       " 'https://finance.yahoo.com/quote/HINDALCO.NS',\n",
       " 'https://ticker.finology.in/company/HINDALCO',\n",
       " 'https://www.google.com/finance/quote/HINDUNILVR:NSE',\n",
       " 'https://finance.yahoo.com/quote/HINDUNILVR.NS',\n",
       " 'https://ticker.finology.in/company/HINDUNILVR',\n",
       " 'https://www.google.com/finance/quote/ICICIBANK:NSE',\n",
       " 'https://finance.yahoo.com/quote/ICICIBANK.NS',\n",
       " 'https://ticker.finology.in/company/ICICIBANK',\n",
       " 'https://www.google.com/finance/quote/ITC:NSE',\n",
       " 'https://finance.yahoo.com/quote/ITC.NS',\n",
       " 'https://ticker.finology.in/company/ITC',\n",
       " 'https://www.google.com/finance/quote/INDUSINDBK:NSE',\n",
       " 'https://finance.yahoo.com/quote/INDUSINDBK.NS',\n",
       " 'https://ticker.finology.in/company/INDUSINDBK',\n",
       " 'https://www.google.com/finance/quote/INFY:NSE',\n",
       " 'https://finance.yahoo.com/quote/INFY.NS',\n",
       " 'https://ticker.finology.in/company/INFY',\n",
       " 'https://www.google.com/finance/quote/JSWSTEEL:NSE',\n",
       " 'https://finance.yahoo.com/quote/JSWSTEEL.NS',\n",
       " 'https://ticker.finology.in/company/JSWSTEEL',\n",
       " 'https://www.google.com/finance/quote/KOTAKBANK:NSE',\n",
       " 'https://finance.yahoo.com/quote/KOTAKBANK.NS',\n",
       " 'https://ticker.finology.in/company/KOTAKBANK',\n",
       " 'https://www.google.com/finance/quote/LT:NSE',\n",
       " 'https://finance.yahoo.com/quote/LT.NS',\n",
       " 'https://ticker.finology.in/company/LT',\n",
       " 'https://www.google.com/finance/quote/M&M:NSE',\n",
       " 'https://finance.yahoo.com/quote/M&M.NS',\n",
       " 'https://ticker.finology.in/company/M&M',\n",
       " 'https://www.google.com/finance/quote/NTPC:NSE',\n",
       " 'https://finance.yahoo.com/quote/NTPC.NS',\n",
       " 'https://ticker.finology.in/company/NTPC',\n",
       " 'https://www.google.com/finance/quote/NESTLEIND:NSE',\n",
       " 'https://finance.yahoo.com/quote/NESTLEIND.NS',\n",
       " 'https://ticker.finology.in/company/NESTLEIND',\n",
       " 'https://www.google.com/finance/quote/ONGC:NSE',\n",
       " 'https://finance.yahoo.com/quote/ONGC.NS',\n",
       " 'https://ticker.finology.in/company/ONGC',\n",
       " 'https://www.google.com/finance/quote/POWERGRID:NSE',\n",
       " 'https://finance.yahoo.com/quote/POWERGRID.NS',\n",
       " 'https://ticker.finology.in/company/POWERGRID',\n",
       " 'https://www.google.com/finance/quote/RELIANCE:NSE',\n",
       " 'https://finance.yahoo.com/quote/RELIANCE.NS',\n",
       " 'https://ticker.finology.in/company/RELIANCE',\n",
       " 'https://www.google.com/finance/quote/SBILIFE:NSE',\n",
       " 'https://finance.yahoo.com/quote/SBILIFE.NS',\n",
       " 'https://ticker.finology.in/company/SBILIFE',\n",
       " 'https://www.google.com/finance/quote/SHRIRAMFIN:NSE',\n",
       " 'https://finance.yahoo.com/quote/SHRIRAMFIN.NS',\n",
       " 'https://ticker.finology.in/company/SHRIRAMFIN',\n",
       " 'https://www.google.com/finance/quote/SBIN:NSE',\n",
       " 'https://finance.yahoo.com/quote/SBIN.NS',\n",
       " 'https://ticker.finology.in/company/SBIN',\n",
       " 'https://www.google.com/finance/quote/SUNPHARMA:NSE',\n",
       " 'https://finance.yahoo.com/quote/SUNPHARMA.NS',\n",
       " 'https://ticker.finology.in/company/SUNPHARMA',\n",
       " 'https://www.google.com/finance/quote/TCS:NSE',\n",
       " 'https://finance.yahoo.com/quote/TCS.NS',\n",
       " 'https://ticker.finology.in/company/TCS',\n",
       " 'https://www.google.com/finance/quote/TATACONSUM:NSE',\n",
       " 'https://finance.yahoo.com/quote/TATACONSUM.NS',\n",
       " 'https://ticker.finology.in/company/TATACONSUM',\n",
       " 'https://www.google.com/finance/quote/TATASTEEL:NSE',\n",
       " 'https://finance.yahoo.com/quote/TATASTEEL.NS',\n",
       " 'https://ticker.finology.in/company/TATASTEEL',\n",
       " 'https://www.google.com/finance/quote/TECHM:NSE',\n",
       " 'https://finance.yahoo.com/quote/TECHM.NS',\n",
       " 'https://ticker.finology.in/company/TECHM',\n",
       " 'https://www.google.com/finance/quote/TITAN:NSE',\n",
       " 'https://finance.yahoo.com/quote/TITAN.NS',\n",
       " 'https://ticker.finology.in/company/TITAN',\n",
       " 'https://www.google.com/finance/quote/TRENT:NSE',\n",
       " 'https://finance.yahoo.com/quote/TRENT.NS',\n",
       " 'https://ticker.finology.in/company/TRENT',\n",
       " 'https://www.google.com/finance/quote/ULTRACEMCO:NSE',\n",
       " 'https://finance.yahoo.com/quote/ULTRACEMCO.NS',\n",
       " 'https://ticker.finology.in/company/ULTRACEMCO',\n",
       " 'https://www.google.com/finance/quote/WIPRO:NSE',\n",
       " 'https://finance.yahoo.com/quote/WIPRO.NS',\n",
       " 'https://ticker.finology.in/company/WIPRO']"
      ]
     },
     "execution_count": 22,
     "metadata": {},
     "output_type": "execute_result"
    }
   ],
   "source": [
    "# urls = [provider.format(ticker) for ticker,provider in itertools.product(tickers_list, [provider['base_url'] for provider in news_providers.values()])]"
   ]
  },
  {
   "cell_type": "code",
   "execution_count": 21,
   "metadata": {},
   "outputs": [
    {
     "data": {
      "text/plain": [
       "'https://www.google.com/finance/quote/ADANIENT:NSE'"
      ]
     },
     "execution_count": 21,
     "metadata": {},
     "output_type": "execute_result"
    }
   ],
   "source": []
  },
  {
   "cell_type": "code",
   "execution_count": null,
   "metadata": {},
   "outputs": [],
   "source": []
  }
 ],
 "metadata": {
  "kernelspec": {
   "display_name": ".venv",
   "language": "python",
   "name": "python3"
  },
  "language_info": {
   "codemirror_mode": {
    "name": "ipython",
    "version": 3
   },
   "file_extension": ".py",
   "mimetype": "text/x-python",
   "name": "python",
   "nbconvert_exporter": "python",
   "pygments_lexer": "ipython3",
   "version": "3.10.14"
  }
 },
 "nbformat": 4,
 "nbformat_minor": 2
}
